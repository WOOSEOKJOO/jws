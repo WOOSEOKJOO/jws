{
 "cells": [
  {
   "cell_type": "code",
   "execution_count": 1,
   "id": "66c81312",
   "metadata": {},
   "outputs": [
    {
     "name": "stdout",
     "output_type": "stream",
     "text": [
      "\n",
      "INSTALLED VERSIONS\n",
      "------------------\n",
      "commit           : 2cb96529396d93b46abab7bbc73a208e708c642e\n",
      "python           : 3.8.8.final.0\n",
      "python-bits      : 64\n",
      "OS               : Windows\n",
      "OS-release       : 10\n",
      "Version          : 10.0.19041\n",
      "machine          : AMD64\n",
      "processor        : Intel64 Family 6 Model 158 Stepping 10, GenuineIntel\n",
      "byteorder        : little\n",
      "LC_ALL           : None\n",
      "LANG             : None\n",
      "LOCALE           : Korean_Korea.949\n",
      "\n",
      "pandas           : 1.2.4\n",
      "numpy            : 1.20.1\n",
      "pytz             : 2021.1\n",
      "dateutil         : 2.8.1\n",
      "pip              : 21.2.4\n",
      "setuptools       : 52.0.0.post20210125\n",
      "Cython           : 0.29.23\n",
      "pytest           : 6.2.3\n",
      "hypothesis       : None\n",
      "sphinx           : 4.0.1\n",
      "blosc            : None\n",
      "feather          : None\n",
      "xlsxwriter       : 1.3.8\n",
      "lxml.etree       : 4.6.3\n",
      "html5lib         : 1.1\n",
      "pymysql          : 1.0.2\n",
      "psycopg2         : None\n",
      "jinja2           : 2.11.3\n",
      "IPython          : 7.22.0\n",
      "pandas_datareader: None\n",
      "bs4              : 4.6.0\n",
      "bottleneck       : 1.3.2\n",
      "fsspec           : 0.9.0\n",
      "fastparquet      : None\n",
      "gcsfs            : None\n",
      "matplotlib       : 3.3.4\n",
      "numexpr          : 2.7.3\n",
      "odfpy            : None\n",
      "openpyxl         : 3.0.7\n",
      "pandas_gbq       : None\n",
      "pyarrow          : None\n",
      "pyxlsb           : None\n",
      "s3fs             : None\n",
      "scipy            : 1.6.2\n",
      "sqlalchemy       : 1.4.7\n",
      "tables           : 3.6.1\n",
      "tabulate         : None\n",
      "xarray           : None\n",
      "xlrd             : 2.0.1\n",
      "xlwt             : 1.3.0\n",
      "numba            : 0.53.1\n"
     ]
    }
   ],
   "source": [
    "import pandas as pd\n",
    "pd.show_versions()"
   ]
  },
  {
   "cell_type": "code",
   "execution_count": 2,
   "id": "762cfad1",
   "metadata": {},
   "outputs": [],
   "source": [
    "import warnings\n",
    "warnings.filterwarnings(action = 'ignore')\n",
    "import pandas as pd"
   ]
  },
  {
   "cell_type": "code",
   "execution_count": 3,
   "id": "ba765481",
   "metadata": {},
   "outputs": [
    {
     "data": {
      "text/html": [
       "<div>\n",
       "<style scoped>\n",
       "    .dataframe tbody tr th:only-of-type {\n",
       "        vertical-align: middle;\n",
       "    }\n",
       "\n",
       "    .dataframe tbody tr th {\n",
       "        vertical-align: top;\n",
       "    }\n",
       "\n",
       "    .dataframe thead th {\n",
       "        text-align: right;\n",
       "    }\n",
       "</style>\n",
       "<table border=\"1\" class=\"dataframe\">\n",
       "  <thead>\n",
       "    <tr style=\"text-align: right;\">\n",
       "      <th></th>\n",
       "      <th>id</th>\n",
       "      <th>document</th>\n",
       "      <th>label</th>\n",
       "    </tr>\n",
       "  </thead>\n",
       "  <tbody>\n",
       "    <tr>\n",
       "      <th>0</th>\n",
       "      <td>9976970</td>\n",
       "      <td>아 더빙.. 진짜 짜증나네요 목소리</td>\n",
       "      <td>0</td>\n",
       "    </tr>\n",
       "    <tr>\n",
       "      <th>1</th>\n",
       "      <td>3819312</td>\n",
       "      <td>흠...포스터보고 초딩영화줄....오버연기조차 가볍지 않구나</td>\n",
       "      <td>1</td>\n",
       "    </tr>\n",
       "    <tr>\n",
       "      <th>2</th>\n",
       "      <td>10265843</td>\n",
       "      <td>너무재밓었다그래서보는것을추천한다</td>\n",
       "      <td>0</td>\n",
       "    </tr>\n",
       "    <tr>\n",
       "      <th>3</th>\n",
       "      <td>9045019</td>\n",
       "      <td>교도소 이야기구먼 ..솔직히 재미는 없다..평점 조정</td>\n",
       "      <td>0</td>\n",
       "    </tr>\n",
       "    <tr>\n",
       "      <th>4</th>\n",
       "      <td>6483659</td>\n",
       "      <td>사이몬페그의 익살스런 연기가 돋보였던 영화!스파이더맨에서 늙어보이기만 했던 커스틴 ...</td>\n",
       "      <td>1</td>\n",
       "    </tr>\n",
       "  </tbody>\n",
       "</table>\n",
       "</div>"
      ],
      "text/plain": [
       "         id                                           document  label\n",
       "0   9976970                                아 더빙.. 진짜 짜증나네요 목소리      0\n",
       "1   3819312                  흠...포스터보고 초딩영화줄....오버연기조차 가볍지 않구나      1\n",
       "2  10265843                                  너무재밓었다그래서보는것을추천한다      0\n",
       "3   9045019                      교도소 이야기구먼 ..솔직히 재미는 없다..평점 조정      0\n",
       "4   6483659  사이몬페그의 익살스런 연기가 돋보였던 영화!스파이더맨에서 늙어보이기만 했던 커스틴 ...      1"
      ]
     },
     "execution_count": 3,
     "metadata": {},
     "output_type": "execute_result"
    }
   ],
   "source": [
    "nsmc_train_df = pd.read_csv('./data/ratings_train.txt', encoding = 'utf8', sep = '\\t', engine = 'python')\n",
    "nsmc_train_df.head()"
   ]
  },
  {
   "cell_type": "code",
   "execution_count": 4,
   "id": "0b4bd9f5",
   "metadata": {},
   "outputs": [
    {
     "name": "stdout",
     "output_type": "stream",
     "text": [
      "<class 'pandas.core.frame.DataFrame'>\n",
      "RangeIndex: 150000 entries, 0 to 149999\n",
      "Data columns (total 3 columns):\n",
      " #   Column    Non-Null Count   Dtype \n",
      "---  ------    --------------   ----- \n",
      " 0   id        150000 non-null  int64 \n",
      " 1   document  149995 non-null  object\n",
      " 2   label     150000 non-null  int64 \n",
      "dtypes: int64(2), object(1)\n",
      "memory usage: 3.4+ MB\n"
     ]
    }
   ],
   "source": [
    "nsmc_train_df.info()"
   ]
  },
  {
   "cell_type": "code",
   "execution_count": 5,
   "id": "5e253143",
   "metadata": {},
   "outputs": [],
   "source": [
    "nsmc_train_df = nsmc_train_df[nsmc_train_df['document'].notnull()]"
   ]
  },
  {
   "cell_type": "code",
   "execution_count": 6,
   "id": "0f335173",
   "metadata": {},
   "outputs": [
    {
     "name": "stdout",
     "output_type": "stream",
     "text": [
      "<class 'pandas.core.frame.DataFrame'>\n",
      "Int64Index: 149995 entries, 0 to 149999\n",
      "Data columns (total 3 columns):\n",
      " #   Column    Non-Null Count   Dtype \n",
      "---  ------    --------------   ----- \n",
      " 0   id        149995 non-null  int64 \n",
      " 1   document  149995 non-null  object\n",
      " 2   label     149995 non-null  int64 \n",
      "dtypes: int64(2), object(1)\n",
      "memory usage: 4.6+ MB\n"
     ]
    }
   ],
   "source": [
    "nsmc_train_df.info()"
   ]
  },
  {
   "cell_type": "code",
   "execution_count": 7,
   "id": "05438710",
   "metadata": {},
   "outputs": [
    {
     "data": {
      "text/plain": [
       "0    75170\n",
       "1    74825\n",
       "Name: label, dtype: int64"
      ]
     },
     "execution_count": 7,
     "metadata": {},
     "output_type": "execute_result"
    }
   ],
   "source": [
    "nsmc_train_df['label'].value_counts()"
   ]
  },
  {
   "cell_type": "code",
   "execution_count": 8,
   "id": "e30f7f52",
   "metadata": {},
   "outputs": [],
   "source": [
    "import re"
   ]
  },
  {
   "cell_type": "code",
   "execution_count": 9,
   "id": "ad02b277",
   "metadata": {},
   "outputs": [
    {
     "data": {
      "text/html": [
       "<div>\n",
       "<style scoped>\n",
       "    .dataframe tbody tr th:only-of-type {\n",
       "        vertical-align: middle;\n",
       "    }\n",
       "\n",
       "    .dataframe tbody tr th {\n",
       "        vertical-align: top;\n",
       "    }\n",
       "\n",
       "    .dataframe thead th {\n",
       "        text-align: right;\n",
       "    }\n",
       "</style>\n",
       "<table border=\"1\" class=\"dataframe\">\n",
       "  <thead>\n",
       "    <tr style=\"text-align: right;\">\n",
       "      <th></th>\n",
       "      <th>id</th>\n",
       "      <th>document</th>\n",
       "      <th>label</th>\n",
       "    </tr>\n",
       "  </thead>\n",
       "  <tbody>\n",
       "    <tr>\n",
       "      <th>0</th>\n",
       "      <td>9976970</td>\n",
       "      <td>아 더빙  진짜 짜증나네요 목소리</td>\n",
       "      <td>0</td>\n",
       "    </tr>\n",
       "    <tr>\n",
       "      <th>1</th>\n",
       "      <td>3819312</td>\n",
       "      <td>흠 포스터보고 초딩영화줄 오버연기조차 가볍지 않구나</td>\n",
       "      <td>1</td>\n",
       "    </tr>\n",
       "    <tr>\n",
       "      <th>2</th>\n",
       "      <td>10265843</td>\n",
       "      <td>너무재밓었다그래서보는것을추천한다</td>\n",
       "      <td>0</td>\n",
       "    </tr>\n",
       "    <tr>\n",
       "      <th>3</th>\n",
       "      <td>9045019</td>\n",
       "      <td>교도소 이야기구먼  솔직히 재미는 없다 평점 조정</td>\n",
       "      <td>0</td>\n",
       "    </tr>\n",
       "    <tr>\n",
       "      <th>4</th>\n",
       "      <td>6483659</td>\n",
       "      <td>사이몬페그의 익살스런 연기가 돋보였던 영화 스파이더맨에서 늙어보이기만 했던 커스틴 ...</td>\n",
       "      <td>1</td>\n",
       "    </tr>\n",
       "  </tbody>\n",
       "</table>\n",
       "</div>"
      ],
      "text/plain": [
       "         id                                           document  label\n",
       "0   9976970                                 아 더빙  진짜 짜증나네요 목소리      0\n",
       "1   3819312                       흠 포스터보고 초딩영화줄 오버연기조차 가볍지 않구나      1\n",
       "2  10265843                                  너무재밓었다그래서보는것을추천한다      0\n",
       "3   9045019                        교도소 이야기구먼  솔직히 재미는 없다 평점 조정      0\n",
       "4   6483659  사이몬페그의 익살스런 연기가 돋보였던 영화 스파이더맨에서 늙어보이기만 했던 커스틴 ...      1"
      ]
     },
     "execution_count": 9,
     "metadata": {},
     "output_type": "execute_result"
    }
   ],
   "source": [
    "nsmc_train_df['document'] = nsmc_train_df['document'].apply(lambda x : re.sub(r'[^ ㄱ-ㅣ가-힣]+', \" \", x))\n",
    "nsmc_train_df.head()"
   ]
  },
  {
   "cell_type": "code",
   "execution_count": 10,
   "id": "98a59fe4",
   "metadata": {},
   "outputs": [
    {
     "data": {
      "text/html": [
       "<div>\n",
       "<style scoped>\n",
       "    .dataframe tbody tr th:only-of-type {\n",
       "        vertical-align: middle;\n",
       "    }\n",
       "\n",
       "    .dataframe tbody tr th {\n",
       "        vertical-align: top;\n",
       "    }\n",
       "\n",
       "    .dataframe thead th {\n",
       "        text-align: right;\n",
       "    }\n",
       "</style>\n",
       "<table border=\"1\" class=\"dataframe\">\n",
       "  <thead>\n",
       "    <tr style=\"text-align: right;\">\n",
       "      <th></th>\n",
       "      <th>id</th>\n",
       "      <th>document</th>\n",
       "      <th>label</th>\n",
       "    </tr>\n",
       "  </thead>\n",
       "  <tbody>\n",
       "    <tr>\n",
       "      <th>0</th>\n",
       "      <td>6270596</td>\n",
       "      <td>굳 ㅋ</td>\n",
       "      <td>1</td>\n",
       "    </tr>\n",
       "    <tr>\n",
       "      <th>1</th>\n",
       "      <td>9274899</td>\n",
       "      <td>GDNTOPCLASSINTHECLUB</td>\n",
       "      <td>0</td>\n",
       "    </tr>\n",
       "    <tr>\n",
       "      <th>2</th>\n",
       "      <td>8544678</td>\n",
       "      <td>뭐야 이 평점들은.... 나쁘진 않지만 10점 짜리는 더더욱 아니잖아</td>\n",
       "      <td>0</td>\n",
       "    </tr>\n",
       "    <tr>\n",
       "      <th>3</th>\n",
       "      <td>6825595</td>\n",
       "      <td>지루하지는 않은데 완전 막장임... 돈주고 보기에는....</td>\n",
       "      <td>0</td>\n",
       "    </tr>\n",
       "    <tr>\n",
       "      <th>4</th>\n",
       "      <td>6723715</td>\n",
       "      <td>3D만 아니었어도 별 다섯 개 줬을텐데.. 왜 3D로 나와서 제 심기를 불편하게 하죠??</td>\n",
       "      <td>0</td>\n",
       "    </tr>\n",
       "  </tbody>\n",
       "</table>\n",
       "</div>"
      ],
      "text/plain": [
       "        id                                           document  label\n",
       "0  6270596                                                굳 ㅋ      1\n",
       "1  9274899                               GDNTOPCLASSINTHECLUB      0\n",
       "2  8544678             뭐야 이 평점들은.... 나쁘진 않지만 10점 짜리는 더더욱 아니잖아      0\n",
       "3  6825595                   지루하지는 않은데 완전 막장임... 돈주고 보기에는....      0\n",
       "4  6723715  3D만 아니었어도 별 다섯 개 줬을텐데.. 왜 3D로 나와서 제 심기를 불편하게 하죠??      0"
      ]
     },
     "execution_count": 10,
     "metadata": {},
     "output_type": "execute_result"
    }
   ],
   "source": [
    "nsmc_test_df = pd.read_csv('./data/ratings_test.txt', encoding = 'utf8', sep = '\\t', engine = 'python')\n",
    "nsmc_test_df.head()"
   ]
  },
  {
   "cell_type": "code",
   "execution_count": 11,
   "id": "8db4aa13",
   "metadata": {},
   "outputs": [
    {
     "name": "stdout",
     "output_type": "stream",
     "text": [
      "<class 'pandas.core.frame.DataFrame'>\n",
      "RangeIndex: 50000 entries, 0 to 49999\n",
      "Data columns (total 3 columns):\n",
      " #   Column    Non-Null Count  Dtype \n",
      "---  ------    --------------  ----- \n",
      " 0   id        50000 non-null  int64 \n",
      " 1   document  49997 non-null  object\n",
      " 2   label     50000 non-null  int64 \n",
      "dtypes: int64(2), object(1)\n",
      "memory usage: 1.1+ MB\n"
     ]
    }
   ],
   "source": [
    "nsmc_test_df.info()"
   ]
  },
  {
   "cell_type": "code",
   "execution_count": 12,
   "id": "1a983ca4",
   "metadata": {},
   "outputs": [],
   "source": [
    "#document 칼럼이 Null인 샘플 제거\n",
    "nsmc_test_df = nsmc_test_df[nsmc_test_df['document'].notnull()] "
   ]
  },
  {
   "cell_type": "code",
   "execution_count": 13,
   "id": "f9c0613e",
   "metadata": {},
   "outputs": [
    {
     "data": {
      "text/plain": [
       "1    25171\n",
       "0    24826\n",
       "Name: label, dtype: int64"
      ]
     },
     "execution_count": 13,
     "metadata": {},
     "output_type": "execute_result"
    }
   ],
   "source": [
    "nsmc_test_df['label'].value_counts()"
   ]
  },
  {
   "cell_type": "code",
   "execution_count": 14,
   "id": "1cd7b5a5",
   "metadata": {},
   "outputs": [],
   "source": [
    "nsmc_test_df['document'] = nsmc_test_df['document'].apply(lambda x : re.sub(r'[^ ㄱ-ㅣ가-힣]+', \" \", \n",
    "x))"
   ]
  },
  {
   "cell_type": "code",
   "execution_count": 15,
   "id": "782a69fe",
   "metadata": {},
   "outputs": [],
   "source": [
    "from konlpy.tag import Okt\n",
    "okt = Okt()"
   ]
  },
  {
   "cell_type": "code",
   "execution_count": 16,
   "id": "5af0ce44",
   "metadata": {},
   "outputs": [],
   "source": [
    "def okt_tokenizer(text):\n",
    "    tokens = okt.morphs(text)\n",
    "    return tokens"
   ]
  },
  {
   "cell_type": "code",
   "execution_count": null,
   "id": "8b887e46",
   "metadata": {},
   "outputs": [],
   "source": [
    "from sklearn.feature_extraction.text import TfidfVectorizer\n",
    "tfidf = TfidfVectorizer(tokenizer = okt_tokenizer, ngram_range = (1, 2), min_df\n",
    "= 3, max_df = 0.9)\n",
    "tfidf.fit(nsmc_train_df['document'])\n",
    "nsmc_train_tfidf = tfidf.transform(nsmc_train_df['document'])"
   ]
  },
  {
   "cell_type": "code",
   "execution_count": null,
   "id": "e0fc018b",
   "metadata": {},
   "outputs": [],
   "source": [
    "from sklearn.linear_model import LogisticRegression\n",
    "SA_lr = LogisticRegression(random_state = 0)"
   ]
  },
  {
   "cell_type": "code",
   "execution_count": null,
   "id": "8ccc291a",
   "metadata": {},
   "outputs": [],
   "source": [
    "SA_lr.fit(nsmc_train_tfidf, nsmc_train_df['label'])"
   ]
  },
  {
   "cell_type": "code",
   "execution_count": null,
   "id": "dc48f07e",
   "metadata": {},
   "outputs": [],
   "source": [
    "from sklearn.model_selection import GridSearchCV\n",
    "params = {'C': [1, 3, 3.5, 4, 4.5, 5]}\n",
    "SA_lr_grid_cv = GridSearchCV(SA_lr, param_grid = params, cv = 3, scoring = \n",
    "'accuracy', verbose = 1)"
   ]
  },
  {
   "cell_type": "code",
   "execution_count": null,
   "id": "d64fb95f",
   "metadata": {},
   "outputs": [],
   "source": [
    "SA_lr_grid_cv.fit(nsmc_train_tfidf, nsmc_train_df['label'])"
   ]
  },
  {
   "cell_type": "code",
   "execution_count": null,
   "id": "3cbb67ed",
   "metadata": {},
   "outputs": [],
   "source": [
    "print(SA_lr_grid_cv.best_params_, round(SA_lr_grid_cv.best_score_, 4))"
   ]
  },
  {
   "cell_type": "code",
   "execution_count": null,
   "id": "ab17da6a",
   "metadata": {},
   "outputs": [],
   "source": [
    "#최적 매개변수의 best 모델 저장\n",
    "SA_lr_best = SA_lr_grid_cv.best_estimator_"
   ]
  },
  {
   "cell_type": "code",
   "execution_count": null,
   "id": "742a6e7a",
   "metadata": {},
   "outputs": [],
   "source": [
    "nsmc_test_tfidf = tfidf.transform(nsmc_test_df['document'])"
   ]
  },
  {
   "cell_type": "code",
   "execution_count": null,
   "id": "06ea64ec",
   "metadata": {},
   "outputs": [],
   "source": [
    "test_predict = SA_lr_best.predict(nsmc_test_tfidf)"
   ]
  },
  {
   "cell_type": "code",
   "execution_count": null,
   "id": "f0e85753",
   "metadata": {},
   "outputs": [],
   "source": [
    "from sklearn.metrics import accuracy_score\n",
    "print('감성 분석 정확도 : ', round(accuracy_score(nsmc_test_df['label'], test_predict), 3))"
   ]
  },
  {
   "cell_type": "code",
   "execution_count": null,
   "id": "c3abbd28",
   "metadata": {},
   "outputs": [],
   "source": [
    "st = input('감성 분석할 문장 입력 >> ')"
   ]
  },
  {
   "cell_type": "code",
   "execution_count": null,
   "id": "3b1e4fd4",
   "metadata": {},
   "outputs": [],
   "source": [
    "#0) 입력 텍스트에 대한 전처리 수행\n",
    "st = re.compile(r'[ㄱ-ㅣ가-힣]+').findall(st)\n",
    "print(st)\n",
    "st = [\" \".join(st)]\n",
    "print(st)\n"
   ]
  },
  {
   "cell_type": "code",
   "execution_count": null,
   "id": "ca98fd46",
   "metadata": {},
   "outputs": [],
   "source": [
    "st_tfidf = tfidf.transform(st)\n",
    "#2) 최적 감성 분석 모델에 적용하여 감성 분석 평가\n",
    "st_predict = SA_lr_best.predict(st_tfidf)"
   ]
  },
  {
   "cell_type": "code",
   "execution_count": null,
   "id": "7b76c2ce",
   "metadata": {},
   "outputs": [],
   "source": [
    "if(st_predict == 0):\n",
    "    print(st , \"->> 부정 감성\")\n",
    "else :\n",
    "    print(st , \"->> 긍정 감성\")"
   ]
  },
  {
   "cell_type": "code",
   "execution_count": null,
   "id": "af4f584b",
   "metadata": {},
   "outputs": [],
   "source": [
    "import json\n",
    "file_name = '코로나_naver_news'\n",
    "with open('./data/'+ file_name+'.json', encoding = 'utf8') as j_f:\n",
    "    data = json.load(j_f)"
   ]
  },
  {
   "cell_type": "code",
   "execution_count": null,
   "id": "36dcf97f",
   "metadata": {},
   "outputs": [],
   "source": [
    "print(data)"
   ]
  },
  {
   "cell_type": "code",
   "execution_count": null,
   "id": "710df0dd",
   "metadata": {},
   "outputs": [],
   "source": [
    "data_title = []\n",
    "data_description = []\n",
    "for item in data:\n",
    "    data_title.append(item['title'])\n",
    "    data_description.append(item['description'])"
   ]
  },
  {
   "cell_type": "code",
   "execution_count": null,
   "id": "e80dd4bb",
   "metadata": {},
   "outputs": [],
   "source": [
    "data_title"
   ]
  },
  {
   "cell_type": "code",
   "execution_count": null,
   "id": "6c69fe30",
   "metadata": {},
   "outputs": [],
   "source": [
    "data_description"
   ]
  },
  {
   "cell_type": "code",
   "execution_count": null,
   "id": "290e274d",
   "metadata": {},
   "outputs": [],
   "source": [
    "data_df = pd.DataFrame({'title':data_title, 'description':data_description})"
   ]
  },
  {
   "cell_type": "code",
   "execution_count": null,
   "id": "7981ea58",
   "metadata": {},
   "outputs": [],
   "source": [
    "#1) 분석할 데이터의 피처 벡터화 ---<< title >> 분석\n",
    "data_title_tfidf = tfidf.transform(data_df['title'])\n",
    "#2) 최적 매개변수 학습 모델에 적용하여 감성 분석\n",
    "data_title_predict = SA_lr_best.predict(data_title_tfidf)\n",
    "#3) 감성 분석 결과값을 데이터프레임에 저장\n",
    "data_df['title_label'] = data_title_predict"
   ]
  },
  {
   "cell_type": "code",
   "execution_count": null,
   "id": "28e873d3",
   "metadata": {},
   "outputs": [],
   "source": [
    "#1) 분석할 데이터의 피처 벡터화 ---<< description >> 분석\n",
    "data_description_tfidf = tfidf.transform(data_df['description'])\n",
    "#2) 최적 매개변수 학습 모델에 적용하여 감성 분석\n",
    "data_description_predict = SA_lr_best.predict(data_description_tfidf)\n",
    "#3) 감성 분석 결과값을 데이터프레임에 저장\n",
    "data_df['description_label'] = data_description_predict"
   ]
  },
  {
   "cell_type": "code",
   "execution_count": null,
   "id": "c398ded1",
   "metadata": {},
   "outputs": [],
   "source": [
    "data_df.to_csv('./data/'+file_name+'.csv', encoding = 'utf-8')"
   ]
  },
  {
   "cell_type": "code",
   "execution_count": null,
   "id": "9c26f3ac",
   "metadata": {},
   "outputs": [],
   "source": [
    "data_df.head()"
   ]
  },
  {
   "cell_type": "code",
   "execution_count": null,
   "id": "eaf86c0c",
   "metadata": {},
   "outputs": [],
   "source": [
    "print(data_df['title_label'].value_counts())"
   ]
  },
  {
   "cell_type": "code",
   "execution_count": null,
   "id": "38b938c5",
   "metadata": {},
   "outputs": [],
   "source": [
    "print(data_df['description_label'].value_counts())\n"
   ]
  },
  {
   "cell_type": "code",
   "execution_count": null,
   "id": "f21ddd05",
   "metadata": {},
   "outputs": [],
   "source": [
    "columns_name = ['title', 'title_label', 'description', 'description_label']\n",
    "NEG_data_df = pd.DataFrame(columns = columns_name)\n",
    "POS_data_df = pd.DataFrame(columns = columns_name)\n",
    "for i, data in data_df.iterrows():\n",
    "    title = data[\"title\"]\n",
    "    description = data[\"description\"]\n",
    "    t_label = data[\"title_label\"]\n",
    "    d_label = data[\"description_label\"]\n",
    "    if d_label == 0: #부정 감성 샘플만 추출\n",
    "        NEG_data_df = NEG_data_df.append(pd.DataFrame([[title, t_label, description,d_label]],columns = columns_name), ignore_index = True)\n",
    "    else : #긍정 감성 샘플만 추출\n",
    "        POS_data_df = POS_data_df.append(pd.DataFrame([[title, t_label, description,d_label]], columns = columns_name), ignore_index = True)\n",
    " \n",
    "NEG_data_df.to_csv('./data/'+file_name+'_NES.csv', encoding = 'utf-8')\n",
    "\n",
    "POS_data_df.to_csv('./data/'+file_name+'_POS.csv', encoding = 'utf-8')\n"
   ]
  },
  {
   "cell_type": "code",
   "execution_count": null,
   "id": "8ea83a42",
   "metadata": {},
   "outputs": [],
   "source": [
    "len(NEG_data_df), len(POS_data_df)"
   ]
  },
  {
   "cell_type": "code",
   "execution_count": null,
   "id": "73c1015b",
   "metadata": {},
   "outputs": [],
   "source": [
    "print(POS_data_df)"
   ]
  },
  {
   "cell_type": "code",
   "execution_count": null,
   "id": "b8d4b365",
   "metadata": {},
   "outputs": [],
   "source": [
    "POS_description = POS_data_df['description']"
   ]
  },
  {
   "cell_type": "code",
   "execution_count": null,
   "id": "ab05a17c",
   "metadata": {},
   "outputs": [],
   "source": []
  },
  {
   "cell_type": "code",
   "execution_count": null,
   "id": "84f6fa1b",
   "metadata": {},
   "outputs": [],
   "source": [
    "print(POS_description)"
   ]
  },
  {
   "cell_type": "code",
   "execution_count": null,
   "id": "c18da38d",
   "metadata": {},
   "outputs": [],
   "source": [
    "POS_description_noun_tk = []\n",
    "for d in POS_description:\n",
    "    POS_description_noun_tk.append(okt.nouns(d))"
   ]
  },
  {
   "cell_type": "code",
   "execution_count": null,
   "id": "2c98aa10",
   "metadata": {},
   "outputs": [],
   "source": [
    "print(POS_description_noun_tk)"
   ]
  },
  {
   "cell_type": "code",
   "execution_count": null,
   "id": "ffab6843",
   "metadata": {},
   "outputs": [],
   "source": [
    "POS_description_noun_join = []\n",
    "for d in POS_description_noun_tk:\n",
    "    d2 = [w for w in d if len(w) > 1] #길이가 1보다 큰 토큰만 추출\n",
    "    POS_description_noun_join.append(\" \".join(d2))"
   ]
  },
  {
   "cell_type": "code",
   "execution_count": null,
   "id": "4bfe64df",
   "metadata": {},
   "outputs": [],
   "source": [
    "print(POS_description_noun_join)"
   ]
  },
  {
   "cell_type": "code",
   "execution_count": null,
   "id": "b450b563",
   "metadata": {},
   "outputs": [],
   "source": [
    "NEG_description = NEG_data_df['description']\n",
    "NEG_description_noun_tk = []\n",
    "NEG_description_noun_join = []\n",
    "for d in NEG_description:\n",
    "    NEG_description_noun_tk.append(okt.nouns(d)) #명사 형태소만 추출\n",
    "for d in NEG_description_noun_tk:\n",
    "    d2 = [w for w in d if len(w) > 1] #길이가 1보다 큰 토큰만 추출\n",
    "    NEG_description_noun_join.append(\" \".join(d2)) # 토큰 연결하여 리스트 구성\n"
   ]
  },
  {
   "cell_type": "code",
   "execution_count": null,
   "id": "e2a5bc7a",
   "metadata": {},
   "outputs": [],
   "source": [
    "POS_tfidf = TfidfVectorizer(tokenizer = okt_tokenizer, min_df = 2)\n",
    "POS_dtm = POS_tfidf.fit_transform(POS_description_noun_join)"
   ]
  },
  {
   "cell_type": "code",
   "execution_count": null,
   "id": "503019e9",
   "metadata": {},
   "outputs": [],
   "source": [
    "POS_vocab = dict()\n",
    "for idx, word in enumerate(POS_tfidf.get_feature_names()):\n",
    "    POS_vocab[word] = POS_dtm.getcol(idx).sum()\n",
    "POS_words = sorted(POS_vocab.items(), key = lambda x: x[1], reverse = True)"
   ]
  },
  {
   "cell_type": "code",
   "execution_count": null,
   "id": "fdf93bc9",
   "metadata": {},
   "outputs": [],
   "source": [
    "POS_words #작업 확인용 출력"
   ]
  },
  {
   "cell_type": "code",
   "execution_count": null,
   "id": "e10f45d4",
   "metadata": {},
   "outputs": [],
   "source": [
    "NEG_tfidf = TfidfVectorizer(tokenizer = okt_tokenizer, min_df = 2 )\n",
    "NEG_dtm = NEG_tfidf.fit_transform(NEG_description_noun_join)"
   ]
  },
  {
   "cell_type": "code",
   "execution_count": null,
   "id": "2ae0a5cc",
   "metadata": {},
   "outputs": [],
   "source": [
    "NEG_vocab = dict()\n",
    "for idx, word in enumerate(NEG_tfidf.get_feature_names()):\n",
    "    NEG_vocab[word] = NEG_dtm.getcol(idx).sum()\n",
    "NEG_words = sorted( NEG_vocab.items(), key = lambda x: x[1], reverse = True)"
   ]
  },
  {
   "cell_type": "code",
   "execution_count": null,
   "id": "0cc9fa6b",
   "metadata": {},
   "outputs": [],
   "source": [
    "NEG_words"
   ]
  },
  {
   "cell_type": "code",
   "execution_count": null,
   "id": "97716bfd",
   "metadata": {},
   "outputs": [],
   "source": [
    "import matplotlib\n",
    "import matplotlib.pyplot as plt\n",
    "import matplotlib.font_manager as fm\n",
    "fm.get_fontconfig_fonts()\n",
    "font_location = 'C:/Windows/Fonts/malgun.ttf'\n",
    "font_name = fm.FontProperties(fname = font_location).get_name()\n",
    "matplotlib.rc('font', family = font_name)\n",
    "max = 15"
   ]
  },
  {
   "cell_type": "code",
   "execution_count": null,
   "id": "a2a020f2",
   "metadata": {},
   "outputs": [],
   "source": [
    "plt.bar(range(max), [i[1] for i in POS_words[:max]], color = \"blue\")\n",
    "plt.title(\"긍정 뉴스의 단어 상위 %d개\" %max, fontsize = 15)\n",
    "plt.xlabel(\"단어\", fontsize = 12)\n",
    "plt.ylabel(\"TF-IDF의 합\", fontsize = 12)\n",
    "plt.xticks(range(max), [i[0] for i in POS_words[:max]], rotation = 70)\n",
    "plt.show()"
   ]
  },
  {
   "cell_type": "code",
   "execution_count": null,
   "id": "ce33983b",
   "metadata": {},
   "outputs": [],
   "source": [
    "plt.bar(range(max), [i[1] for i in NEG_words[:max]], color = \"blue\")\n",
    "plt.title(\"부정 뉴스의 단어 상위 %d개\" %max, fontsize = 15)\n",
    "plt.xlabel(\"단어\", fontsize = 12)\n",
    "plt.ylabel(\"TF-IDF의 합\", fontsize = 12)\n",
    "plt.xticks(range(max), [i[0] for i in POS_words[:max]], rotation = 70)\n",
    "plt.show()"
   ]
  },
  {
   "cell_type": "code",
   "execution_count": null,
   "id": "ee6dc3c8",
   "metadata": {},
   "outputs": [],
   "source": [
    "description = data_df['description']"
   ]
  },
  {
   "cell_type": "code",
   "execution_count": null,
   "id": "546efd42",
   "metadata": {},
   "outputs": [],
   "source": [
    "description_noun_tk = []\n",
    "for d in description:\n",
    "    description_noun_tk.append(okt.nouns(d))"
   ]
  },
  {
   "cell_type": "code",
   "execution_count": null,
   "id": "475199a3",
   "metadata": {},
   "outputs": [],
   "source": [
    "description_noun_tk2 = []\n",
    "for d in description_noun_tk:\n",
    "    item = [i for i in d if len(i) > 1] #토큰 길이가 1보다 큰 것만 추출\n",
    "    description_noun_tk2.append(item)"
   ]
  },
  {
   "cell_type": "code",
   "execution_count": null,
   "id": "542ce1f7",
   "metadata": {},
   "outputs": [],
   "source": [
    "print(description_noun_tk2)"
   ]
  },
  {
   "cell_type": "code",
   "execution_count": null,
   "id": "6a20ff60",
   "metadata": {},
   "outputs": [],
   "source": [
    "import pyLDAvis\n",
    "import pyLDAvis.gensim_models as gensimvis\n",
    "pyLDAvis.enable_notebook()"
   ]
  },
  {
   "cell_type": "code",
   "execution_count": null,
   "id": "890c25ea",
   "metadata": {
    "scrolled": true
   },
   "outputs": [],
   "source": [
    "!pip install gensim"
   ]
  },
  {
   "cell_type": "code",
   "execution_count": null,
   "id": "e5da9064",
   "metadata": {},
   "outputs": [],
   "source": [
    "corpus = [dictionary.doc2bow(word) for word in description_noun_tk2]"
   ]
  },
  {
   "cell_type": "code",
   "execution_count": null,
   "id": "79e0d6fd",
   "metadata": {},
   "outputs": [],
   "source": []
  }
 ],
 "metadata": {
  "kernelspec": {
   "display_name": "Python 3",
   "language": "python",
   "name": "python3"
  },
  "language_info": {
   "codemirror_mode": {
    "name": "ipython",
    "version": 3
   },
   "file_extension": ".py",
   "mimetype": "text/x-python",
   "name": "python",
   "nbconvert_exporter": "python",
   "pygments_lexer": "ipython3",
   "version": "3.8.8"
  }
 },
 "nbformat": 4,
 "nbformat_minor": 5
}
