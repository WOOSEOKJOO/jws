{
 "cells": [
  {
   "cell_type": "code",
   "execution_count": 3,
   "id": "7f438c5a",
   "metadata": {},
   "outputs": [
    {
     "name": "stdout",
     "output_type": "stream",
     "text": [
      "Hello, Python\n"
     ]
    }
   ],
   "source": [
    "#파이썬을 이용한 프로그래밍 기초\n",
    "#jupyter notebook 환경에서는 셀에 명령어를 입력하고 \n",
    "# 실행한다.(ctrl+enter,shift+enter,alt+enter)\n",
    "\n",
    "print(\"Hello, Python\")"
   ]
  },
  {
   "cell_type": "code",
   "execution_count": 5,
   "id": "f3a575d3",
   "metadata": {},
   "outputs": [],
   "source": [
    "# 데이터의 선언과 사용 ==> 동적할당 가능 dynamic allocation\n",
    "# 파이썬에서는  필요에 따라 사용가능\n",
    "a = 10.1"
   ]
  },
  {
   "cell_type": "code",
   "execution_count": 6,
   "id": "12315a58",
   "metadata": {},
   "outputs": [],
   "source": [
    "# 표현가능한 숫자의 범위\n",
    "c = 12345678901234567890"
   ]
  },
  {
   "cell_type": "code",
   "execution_count": 1,
   "id": "63453ed8",
   "metadata": {},
   "outputs": [],
   "source": [
    "# 문자열의 표현\n",
    "mystring = \"korea\""
   ]
  },
  {
   "cell_type": "code",
   "execution_count": 3,
   "id": "8bbad9b1",
   "metadata": {},
   "outputs": [
    {
     "name": "stdout",
     "output_type": "stream",
     "text": [
      "This sentence is output to the screen\n"
     ]
    }
   ],
   "source": [
    "#파이썬의 입출력문\n",
    "#출력문\n",
    "print('This sentence is output to the screen')"
   ]
  },
  {
   "cell_type": "code",
   "execution_count": 4,
   "id": "f8646b73",
   "metadata": {},
   "outputs": [
    {
     "name": "stdout",
     "output_type": "stream",
     "text": [
      "The value of a is 5\n"
     ]
    }
   ],
   "source": [
    "# print()의 또 다른 예\n",
    "# 문자열과 변수값 동시 출력\n",
    "a = 5\n",
    "print('The value of a is', a)"
   ]
  },
  {
   "cell_type": "code",
   "execution_count": 8,
   "id": "fa7b1c16",
   "metadata": {},
   "outputs": [
    {
     "name": "stdout",
     "output_type": "stream",
     "text": [
      "1 2 3 4\n",
      "1*2*3*4\n",
      "1#2#3#4&-----\n"
     ]
    }
   ],
   "source": [
    "#print()에서 sep와 end 사용\n",
    "print(1, 2, 3, 4)\n",
    "print(1, 2, 3, 4, sep='*')\n",
    "print(1, 2, 3, 4, sep='#', end='&')\n",
    "print('-----')"
   ]
  },
  {
   "cell_type": "code",
   "execution_count": 9,
   "id": "5d8bfc6b",
   "metadata": {},
   "outputs": [
    {
     "name": "stdout",
     "output_type": "stream",
     "text": [
      "The value of x is 5 and y is 10\n"
     ]
    }
   ],
   "source": [
    "# 문자열. format 활용\n",
    "x = 5; y = 10\n",
    "print('The value of x is {} and y is {}'.format(x,y))"
   ]
  },
  {
   "cell_type": "code",
   "execution_count": 12,
   "id": "175f7585",
   "metadata": {},
   "outputs": [
    {
     "name": "stdout",
     "output_type": "stream",
     "text": [
      "The value of x is 10 and y is 5\n"
     ]
    }
   ],
   "source": [
    "# 문자열. format 활용\n",
    "x = 5; y = 10\n",
    "print('The value of x is {} and y is {}'.format(y,x))"
   ]
  },
  {
   "cell_type": "code",
   "execution_count": 13,
   "id": "3c3d7049",
   "metadata": {},
   "outputs": [
    {
     "name": "stdout",
     "output_type": "stream",
     "text": [
      "The value of x is 5 and y is 10\n"
     ]
    }
   ],
   "source": [
    "# 문자열. format 활용\n",
    "print('The value of x is {x} and y is {y}'.format(y=10,x=5))"
   ]
  },
  {
   "cell_type": "code",
   "execution_count": 18,
   "id": "8e8edcc3",
   "metadata": {},
   "outputs": [
    {
     "name": "stdout",
     "output_type": "stream",
     "text": [
      "print formatting...10.00,  3.14\n"
     ]
    }
   ],
   "source": [
    "x=10; y=3.14\n",
    "print('print formatting...%5.2f, %5.2f'%(x,y))"
   ]
  },
  {
   "cell_type": "code",
   "execution_count": 20,
   "id": "d32c7e4a",
   "metadata": {},
   "outputs": [
    {
     "name": "stdout",
     "output_type": "stream",
     "text": [
      "숫자를 넣어주세요.123\n",
      "<class 'int'>\n"
     ]
    }
   ],
   "source": [
    "#python input\n",
    "#input()\n",
    "a=int(input(\"숫자를 넣어주세요.\"))\n",
    "print(type(a))"
   ]
  },
  {
   "cell_type": "code",
   "execution_count": 23,
   "id": "8c78b9cf",
   "metadata": {},
   "outputs": [
    {
     "name": "stdout",
     "output_type": "stream",
     "text": [
      "3.141592653589793\n",
      "2.718281828459045\n"
     ]
    }
   ],
   "source": [
    "#파이썬의 모듈 임포트(가져오기)\n",
    "import math\n",
    "print(math.pi)\n",
    "print(math.e)"
   ]
  },
  {
   "cell_type": "code",
   "execution_count": 25,
   "id": "f432d05a",
   "metadata": {},
   "outputs": [
    {
     "data": {
      "text/plain": [
       "['c:\\\\jws\\\\python',\n",
       " 'c:\\\\developer\\\\python39\\\\python39.zip',\n",
       " 'c:\\\\developer\\\\python39\\\\DLLs',\n",
       " 'c:\\\\developer\\\\python39\\\\lib',\n",
       " 'c:\\\\developer\\\\python39',\n",
       " '',\n",
       " 'c:\\\\developer\\\\python39\\\\lib\\\\site-packages',\n",
       " 'c:\\\\developer\\\\python39\\\\lib\\\\site-packages\\\\win32',\n",
       " 'c:\\\\developer\\\\python39\\\\lib\\\\site-packages\\\\win32\\\\lib',\n",
       " 'c:\\\\developer\\\\python39\\\\lib\\\\site-packages\\\\Pythonwin',\n",
       " 'c:\\\\developer\\\\python39\\\\lib\\\\site-packages\\\\IPython\\\\extensions',\n",
       " 'C:\\\\Users\\\\user7\\\\.ipython']"
      ]
     },
     "execution_count": 25,
     "metadata": {},
     "output_type": "execute_result"
    }
   ],
   "source": [
    "import sys\n",
    "sys.path"
   ]
  },
  {
   "cell_type": "code",
   "execution_count": null,
   "id": "ae221654",
   "metadata": {},
   "outputs": [],
   "source": []
  }
 ],
 "metadata": {
  "kernelspec": {
   "display_name": "Python 3 (ipykernel)",
   "language": "python",
   "name": "python3"
  },
  "language_info": {
   "codemirror_mode": {
    "name": "ipython",
    "version": 3
   },
   "file_extension": ".py",
   "mimetype": "text/x-python",
   "name": "python",
   "nbconvert_exporter": "python",
   "pygments_lexer": "ipython3",
   "version": "3.9.6"
  }
 },
 "nbformat": 4,
 "nbformat_minor": 5
}
