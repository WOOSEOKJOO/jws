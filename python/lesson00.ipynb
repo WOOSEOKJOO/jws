{
 "cells": [
  {
   "cell_type": "code",
   "execution_count": 3,
   "id": "7f438c5a",
   "metadata": {},
   "outputs": [
    {
     "name": "stdout",
     "output_type": "stream",
     "text": [
      "Hello, Python\n"
     ]
    }
   ],
   "source": [
    "#파이썬을 이용한 프로그래밍 기초\n",
    "#jupyter notebook 환경에서는 셀에 명령어를 입력하고 \n",
    "# 실행한다.(ctrl+enter,shift+enter,alt+enter)\n",
    "\n",
    "print(\"Hello, Python\")"
   ]
  },
  {
   "cell_type": "code",
   "execution_count": 5,
   "id": "f3a575d3",
   "metadata": {},
   "outputs": [],
   "source": [
    "# 데이터의 선언과 사용 ==> 동적할당 가능 dynamic allocation\n",
    "# 파이썬에서는  필요에 따라 사용가능\n",
    "a = 10.1"
   ]
  },
  {
   "cell_type": "code",
   "execution_count": 6,
   "id": "12315a58",
   "metadata": {},
   "outputs": [],
   "source": [
    "# 표현가능한 숫자의 범위\n",
    "c = 12345678901234567890"
   ]
  },
  {
   "cell_type": "code",
   "execution_count": null,
   "id": "63453ed8",
   "metadata": {},
   "outputs": [],
   "source": [
    "# 문자열의 표현\n",
    "mystring = \"korea\""
   ]
  }
 ],
 "metadata": {
  "kernelspec": {
   "display_name": "Python 3 (ipykernel)",
   "language": "python",
   "name": "python3"
  },
  "language_info": {
   "codemirror_mode": {
    "name": "ipython",
    "version": 3
   },
   "file_extension": ".py",
   "mimetype": "text/x-python",
   "name": "python",
   "nbconvert_exporter": "python",
   "pygments_lexer": "ipython3",
   "version": "3.9.6"
  }
 },
 "nbformat": 4,
 "nbformat_minor": 5
}
