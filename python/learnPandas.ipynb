{
 "cells": [
  {
   "cell_type": "code",
   "execution_count": 3,
   "id": "71dd20fa",
   "metadata": {},
   "outputs": [
    {
     "name": "stdout",
     "output_type": "stream",
     "text": [
      "Requirement already satisfied: pandas in c:\\developer\\python39\\lib\\site-packages (1.3.1)"
     ]
    },
    {
     "name": "stderr",
     "output_type": "stream",
     "text": [
      "WARNING: You are using pip version 21.1.3; however, version 21.2.1 is available."
     ]
    },
    {
     "name": "stdout",
     "output_type": "stream",
     "text": [
      "\n",
      "Requirement already satisfied: pytz>=2017.3 in c:\\developer\\python39\\lib\\site-packages (from pandas) (2021.1)\n",
      "Requirement already satisfied: numpy>=1.17.3 in c:\\developer\\python39\\lib\\site-packages (from pandas) (1.21.0)\n",
      "Requirement already satisfied: python-dateutil>=2.7.3 in c:\\developer\\python39\\lib\\site-packages (from pandas) (2.8.1)\n",
      "Requirement already satisfied: six>=1.5 in c:\\developer\\python39\\lib\\site-packages (from python-dateutil>=2.7.3->pandas) (1.16.0)\n"
     ]
    },
    {
     "name": "stderr",
     "output_type": "stream",
     "text": [
      "\n",
      "You should consider upgrading via the 'c:\\developer\\python39\\python.exe -m pip install --upgrade pip' command.\n"
     ]
    }
   ],
   "source": [
    "# pandas module 설치\n",
    "!pip install pandas"
   ]
  },
  {
   "cell_type": "code",
   "execution_count": 15,
   "id": "23ddf0f1",
   "metadata": {},
   "outputs": [],
   "source": [
    "### 실습\n",
    "import pandas as pd\n",
    "s = pd.Series([1,9,-3,4])\n",
    "#print(s)\n",
    "\n",
    "#print(s.values) #값 확인\n",
    "#print(s.index) # 인덱스 확인\n",
    "#print(s.dtypes) # 자료형 확인"
   ]
  },
  {
   "cell_type": "code",
   "execution_count": 17,
   "id": "47596ae7",
   "metadata": {},
   "outputs": [
    {
     "ename": "SyntaxError",
     "evalue": "cannot assign to function call (Temp/ipykernel_4892/2874737645.py, line 3)",
     "output_type": "error",
     "traceback": [
      "\u001b[1;36m  File \u001b[1;32m\"C:\\Users\\user7\\AppData\\Local\\Temp/ipykernel_4892/2874737645.py\"\u001b[1;36m, line \u001b[1;32m3\u001b[0m\n\u001b[1;33m    s = pd.Series ([1,9,-3,4]), index=(['a','b','c','d'])\u001b[0m\n\u001b[1;37m        ^\u001b[0m\n\u001b[1;31mSyntaxError\u001b[0m\u001b[1;31m:\u001b[0m cannot assign to function call\n"
     ]
    }
   ],
   "source": [
    "# 인덱스 지정\n",
    "import pandas as pd\n",
    "s = pd.Series ([1,9,-3,4]), index=(['a','b','c','d'])\n",
    "print(s)"
   ]
  },
  {
   "cell_type": "code",
   "execution_count": 18,
   "id": "1064ada0",
   "metadata": {},
   "outputs": [
    {
     "name": "stdout",
     "output_type": "stream",
     "text": [
      "A    3000\n",
      "B    6000\n",
      "C    2000\n",
      "D    4000\n",
      "dtype: int64\n"
     ]
    }
   ],
   "source": [
    "# 사전과 호환\n",
    "dic = {'A': 3000, 'B': 6000, 'C':2000, 'D':4000}\n",
    "s= pd.Series(dic)\n",
    "print(s)"
   ]
  },
  {
   "cell_type": "code",
   "execution_count": 21,
   "id": "02ad138c",
   "metadata": {},
   "outputs": [
    {
     "name": "stdout",
     "output_type": "stream",
     "text": [
      "     A           B  C  D  E    F\n",
      "0  1.0  2021-05-06  1  5  0  Web\n",
      "1  1.0  2021-05-06  2  6  0  Web\n",
      "2  1.0  2021-05-06  3  7  0  Web\n",
      "3  1.0  2021-05-06  4  8  0  Web\n"
     ]
    }
   ],
   "source": [
    "df = pd.DataFrame({'A':1.,\n",
    "                  'B':'2021-05-06',\n",
    "                  'C':[1,2,3,4],\n",
    "                  'D':(5,6,7,8),\n",
    "                  'E': 0,\n",
    "                  'F':'Web'\n",
    "                  })\n",
    "print(df)"
   ]
  },
  {
   "cell_type": "code",
   "execution_count": 23,
   "id": "92d39ddf",
   "metadata": {},
   "outputs": [
    {
     "name": "stdout",
     "output_type": "stream",
     "text": [
      "RangeIndex(start=0, stop=4, step=1)\n",
      "Index(['A', 'B', 'C', 'D', 'E', 'F'], dtype='object')\n"
     ]
    }
   ],
   "source": [
    "# 인덱스 확인\n",
    "# 행\n",
    "print(df.index)\n",
    "#열\n",
    "print(df.columns)"
   ]
  },
  {
   "cell_type": "code",
   "execution_count": 25,
   "id": "4ccaf778",
   "metadata": {},
   "outputs": [
    {
     "name": "stdout",
     "output_type": "stream",
     "text": [
      "  name  year  points\n",
      "0    A  2017     3.5\n",
      "1    B  2018     4.2\n",
      "2    C  2019     2.6\n",
      "3    D  2020     7.4\n",
      "4    E  2021     1.9\n"
     ]
    }
   ],
   "source": [
    "data = {'name':['A','B','C','D','E'],\n",
    "        'year' :[2017, 2018, 2019, 2020,2021],\n",
    "        'points':[3.5,4.2,2.6,7.4,1.9]}\n",
    "df = pd.DataFrame(data)\n",
    "print(df)"
   ]
  },
  {
   "cell_type": "code",
   "execution_count": 26,
   "id": "a45551e9",
   "metadata": {},
   "outputs": [
    {
     "name": "stdout",
     "output_type": "stream",
     "text": [
      "   year\n",
      "0  2017\n",
      "1  2018\n",
      "2  2019\n",
      "3  2020\n",
      "4  2021\n"
     ]
    }
   ],
   "source": [
    "print(df[['year']])"
   ]
  },
  {
   "cell_type": "code",
   "execution_count": 27,
   "id": "3c919d0c",
   "metadata": {},
   "outputs": [
    {
     "name": "stdout",
     "output_type": "stream",
     "text": [
      "   year  points\n",
      "0  2017     3.5\n",
      "1  2018     4.2\n",
      "2  2019     2.6\n",
      "3  2020     7.4\n",
      "4  2021     1.9\n"
     ]
    }
   ],
   "source": [
    "print(df[['year','points']])"
   ]
  },
  {
   "cell_type": "code",
   "execution_count": 28,
   "id": "92858fa3",
   "metadata": {},
   "outputs": [
    {
     "name": "stdout",
     "output_type": "stream",
     "text": [
      "  name  year  points  new\n",
      "0    A  2017     3.5    1\n",
      "1    B  2018     4.2    2\n",
      "2    C  2019     2.6    3\n",
      "3    D  2020     7.4    4\n",
      "4    E  2021     1.9    5\n"
     ]
    }
   ],
   "source": [
    "# 새로운 열 추가\n",
    "df['new'] = [1,2,3,4,5]\n",
    "print(df)"
   ]
  },
  {
   "cell_type": "code",
   "execution_count": 29,
   "id": "c1c67577",
   "metadata": {},
   "outputs": [
    {
     "name": "stdout",
     "output_type": "stream",
     "text": [
      "  name  year  points  new   past\n",
      "0    A  2017     3.5    1   True\n",
      "1    B  2018     4.2    2   True\n",
      "2    C  2019     2.6    3   True\n",
      "3    D  2020     7.4    4  False\n",
      "4    E  2021     1.9    5  False\n"
     ]
    }
   ],
   "source": [
    "# 조건을 사용하여 새로운 열 추가\n",
    "df['past'] = df['year'] < 2020\n",
    "print(df)"
   ]
  },
  {
   "cell_type": "code",
   "execution_count": 30,
   "id": "fa793c25",
   "metadata": {},
   "outputs": [
    {
     "name": "stdout",
     "output_type": "stream",
     "text": [
      "  name  year  points  new\n",
      "0    A  2017     3.5    1\n",
      "1    B  2018     4.2    2\n",
      "2    C  2019     2.6    3\n",
      "3    D  2020     7.4    4\n",
      "4    E  2021     1.9    5\n"
     ]
    }
   ],
   "source": [
    "# 삭제\n",
    "del df['past']\n",
    "print(df)"
   ]
  },
  {
   "cell_type": "code",
   "execution_count": 38,
   "id": "820c029c",
   "metadata": {},
   "outputs": [
    {
     "name": "stdout",
     "output_type": "stream",
     "text": [
      "  name  year  points\n",
      "0    A  2017     3.5\n",
      "1    B  2018     4.2\n",
      "2    C  2019     2.6\n",
      "3    D  2020     7.4\n",
      "4    E  2021     1.9\n"
     ]
    }
   ],
   "source": [
    "# 인덱싱 행을 기준으로 데이터 추가 및 삭제\n",
    "data = {'name':['A', 'B','C','D','E'],\n",
    "       'year':[2017, 2018, 2019, 2020, 2021],\n",
    "       'points':[3.5,4.2,2.6,7.4,1.9]}\n",
    "df = pd.DataFrame(data)\n",
    "print(df)"
   ]
  },
  {
   "cell_type": "code",
   "execution_count": 39,
   "id": "3d74aa8d",
   "metadata": {},
   "outputs": [
    {
     "name": "stdout",
     "output_type": "stream",
     "text": [
      "  name    year  points\n",
      "0    A  2017.0     3.5\n",
      "1    B  2018.0     4.2\n",
      "2    C  2019.0     2.6\n",
      "3    D  2020.0     7.4\n",
      "4    E  2021.0     1.9\n",
      "5    F  2022.0     4.0\n"
     ]
    }
   ],
   "source": [
    "# 새로운 행 추가\n",
    "df.loc[5,:] = ['F',2022,4.0]\n",
    "print(df)"
   ]
  },
  {
   "cell_type": "code",
   "execution_count": 40,
   "id": "7075d6a6",
   "metadata": {},
   "outputs": [
    {
     "name": "stdout",
     "output_type": "stream",
     "text": [
      "  name    year  points\n",
      "2    C  2019.0     2.6\n",
      "3    D  2020.0     7.4\n"
     ]
    }
   ],
   "source": [
    "# 범위선택\n",
    "print(df[2:4])"
   ]
  },
  {
   "cell_type": "code",
   "execution_count": 42,
   "id": "9424ea2b",
   "metadata": {},
   "outputs": [
    {
     "name": "stdout",
     "output_type": "stream",
     "text": [
      "name      ABCDE\n",
      "year      10095\n",
      "points     19.6\n",
      "dtype: object\n"
     ]
    }
   ],
   "source": [
    "#DataFrame 데이터 분석 : 데이터 분석과 관련 다양한, 함수 제공\n",
    "#sum : 행또는 열의합\n",
    "#min,max\n",
    "#mean\n",
    "#median\n",
    "#std, var : 표준편차, 분산\n",
    "#count\n",
    "# srot_values : 정렬\n",
    "# corr,cov : 상관계수, 공분산\n",
    "data = {'name':['A', 'B','C','D','E'],\n",
    "       'year':[2017, 2018, 2019, 2020, 2021],\n",
    "       'points':[3.5,4.2,2.6,7.4,1.9]}\n",
    "df = pd.DataFrame(data)\n",
    "\n",
    "# 각 행의 합\n",
    "#print(df.sum(axis=1))\n",
    "# 각 열의합\n",
    "print(df.sum(axis=0))"
   ]
  },
  {
   "cell_type": "code",
   "execution_count": 44,
   "id": "1ca05fd0",
   "metadata": {},
   "outputs": [
    {
     "name": "stdout",
     "output_type": "stream",
     "text": [
      "       행정구역   총인구수(명)   남자인구수(명)   여자인구수(명)\n",
      "0     서울특별시  51672400    4649442    4916548\n",
      "1     부산광역시   9565990    1647291    1717067\n",
      "2     대구광역시   2397646    1182380    1215266\n",
      "3     인천광역시   2936367    1470544    1465823\n",
      "4     광주광역시   1442647     713793     728854\n",
      "5     대전광역시   1456107     726666     729441\n",
      "6     울산광역시   1126369     578924     547445\n",
      "7   세종특별자치시    362995     181328     181667\n",
      "8       경기도  13500688    6795088    6705600\n",
      "9       강원도   1535530     772949     762581\n",
      "10     충청북도   1597503     810225     787278\n",
      "11     충청남도   2117400    1082113    1035287\n",
      "12     전라북도   1794345     892670     901675\n",
      "13     전라남도   1840921     926398     914523\n",
      "14     경상북도   2632401    1326844    1305557\n",
      "15     경상남도   3325840    1674612    1651228\n",
      "16  제주특별자치도    675293     338766     336527\n"
     ]
    }
   ],
   "source": [
    "# pandas에서 data\n",
    "df = pd.read_csv(\"cities.csv\")\n",
    "\n",
    "print(df)\n",
    "# 파일을 저장하는 것도 비슷한 방법으로 한다.\n",
    "df.to_csv(\"cities_new.csv\")"
   ]
  },
  {
   "cell_type": "code",
   "execution_count": 47,
   "id": "dab1ada4",
   "metadata": {},
   "outputs": [
    {
     "data": {
      "text/html": [
       "<div>\n",
       "<style scoped>\n",
       "    .dataframe tbody tr th:only-of-type {\n",
       "        vertical-align: middle;\n",
       "    }\n",
       "\n",
       "    .dataframe tbody tr th {\n",
       "        vertical-align: top;\n",
       "    }\n",
       "\n",
       "    .dataframe thead th {\n",
       "        text-align: right;\n",
       "    }\n",
       "</style>\n",
       "<table border=\"1\" class=\"dataframe\">\n",
       "  <thead>\n",
       "    <tr style=\"text-align: right;\">\n",
       "      <th></th>\n",
       "      <th>행정구역</th>\n",
       "      <th>총인구수(명)</th>\n",
       "      <th>남자인구수(명)</th>\n",
       "      <th>여자인구수(명)</th>\n",
       "    </tr>\n",
       "  </thead>\n",
       "  <tbody>\n",
       "    <tr>\n",
       "      <th>0</th>\n",
       "      <td>서울특별시</td>\n",
       "      <td>51672400</td>\n",
       "      <td>4649442</td>\n",
       "      <td>4916548</td>\n",
       "    </tr>\n",
       "    <tr>\n",
       "      <th>1</th>\n",
       "      <td>부산광역시</td>\n",
       "      <td>9565990</td>\n",
       "      <td>1647291</td>\n",
       "      <td>1717067</td>\n",
       "    </tr>\n",
       "    <tr>\n",
       "      <th>2</th>\n",
       "      <td>대구광역시</td>\n",
       "      <td>2397646</td>\n",
       "      <td>1182380</td>\n",
       "      <td>1215266</td>\n",
       "    </tr>\n",
       "    <tr>\n",
       "      <th>3</th>\n",
       "      <td>인천광역시</td>\n",
       "      <td>2936367</td>\n",
       "      <td>1470544</td>\n",
       "      <td>1465823</td>\n",
       "    </tr>\n",
       "    <tr>\n",
       "      <th>4</th>\n",
       "      <td>광주광역시</td>\n",
       "      <td>1442647</td>\n",
       "      <td>713793</td>\n",
       "      <td>728854</td>\n",
       "    </tr>\n",
       "    <tr>\n",
       "      <th>5</th>\n",
       "      <td>대전광역시</td>\n",
       "      <td>1456107</td>\n",
       "      <td>726666</td>\n",
       "      <td>729441</td>\n",
       "    </tr>\n",
       "    <tr>\n",
       "      <th>6</th>\n",
       "      <td>울산광역시</td>\n",
       "      <td>1126369</td>\n",
       "      <td>578924</td>\n",
       "      <td>547445</td>\n",
       "    </tr>\n",
       "  </tbody>\n",
       "</table>\n",
       "</div>"
      ],
      "text/plain": [
       "    행정구역   총인구수(명)   남자인구수(명)   여자인구수(명)\n",
       "0  서울특별시  51672400    4649442    4916548\n",
       "1  부산광역시   9565990    1647291    1717067\n",
       "2  대구광역시   2397646    1182380    1215266\n",
       "3  인천광역시   2936367    1470544    1465823\n",
       "4  광주광역시   1442647     713793     728854\n",
       "5  대전광역시   1456107     726666     729441\n",
       "6  울산광역시   1126369     578924     547445"
      ]
     },
     "execution_count": 47,
     "metadata": {},
     "output_type": "execute_result"
    }
   ],
   "source": [
    "df.head(7)"
   ]
  },
  {
   "cell_type": "code",
   "execution_count": 49,
   "id": "870a781e",
   "metadata": {},
   "outputs": [
    {
     "data": {
      "text/html": [
       "<div>\n",
       "<style scoped>\n",
       "    .dataframe tbody tr th:only-of-type {\n",
       "        vertical-align: middle;\n",
       "    }\n",
       "\n",
       "    .dataframe tbody tr th {\n",
       "        vertical-align: top;\n",
       "    }\n",
       "\n",
       "    .dataframe thead th {\n",
       "        text-align: right;\n",
       "    }\n",
       "</style>\n",
       "<table border=\"1\" class=\"dataframe\">\n",
       "  <thead>\n",
       "    <tr style=\"text-align: right;\">\n",
       "      <th></th>\n",
       "      <th>행정구역</th>\n",
       "      <th>총인구수(명)</th>\n",
       "      <th>남자인구수(명)</th>\n",
       "      <th>여자인구수(명)</th>\n",
       "    </tr>\n",
       "  </thead>\n",
       "  <tbody>\n",
       "    <tr>\n",
       "      <th>12</th>\n",
       "      <td>전라북도</td>\n",
       "      <td>1794345</td>\n",
       "      <td>892670</td>\n",
       "      <td>901675</td>\n",
       "    </tr>\n",
       "    <tr>\n",
       "      <th>13</th>\n",
       "      <td>전라남도</td>\n",
       "      <td>1840921</td>\n",
       "      <td>926398</td>\n",
       "      <td>914523</td>\n",
       "    </tr>\n",
       "    <tr>\n",
       "      <th>14</th>\n",
       "      <td>경상북도</td>\n",
       "      <td>2632401</td>\n",
       "      <td>1326844</td>\n",
       "      <td>1305557</td>\n",
       "    </tr>\n",
       "    <tr>\n",
       "      <th>15</th>\n",
       "      <td>경상남도</td>\n",
       "      <td>3325840</td>\n",
       "      <td>1674612</td>\n",
       "      <td>1651228</td>\n",
       "    </tr>\n",
       "    <tr>\n",
       "      <th>16</th>\n",
       "      <td>제주특별자치도</td>\n",
       "      <td>675293</td>\n",
       "      <td>338766</td>\n",
       "      <td>336527</td>\n",
       "    </tr>\n",
       "  </tbody>\n",
       "</table>\n",
       "</div>"
      ],
      "text/plain": [
       "       행정구역   총인구수(명)   남자인구수(명)   여자인구수(명)\n",
       "12     전라북도   1794345     892670     901675\n",
       "13     전라남도   1840921     926398     914523\n",
       "14     경상북도   2632401    1326844    1305557\n",
       "15     경상남도   3325840    1674612    1651228\n",
       "16  제주특별자치도    675293     338766     336527"
      ]
     },
     "execution_count": 49,
     "metadata": {},
     "output_type": "execute_result"
    }
   ],
   "source": [
    "df.tail()"
   ]
  },
  {
   "cell_type": "code",
   "execution_count": 50,
   "id": "93a1bae2",
   "metadata": {},
   "outputs": [
    {
     "name": "stdout",
     "output_type": "stream",
     "text": [
      "<class 'pandas.core.frame.DataFrame'>\n",
      "RangeIndex: 17 entries, 0 to 16\n",
      "Data columns (total 4 columns):\n",
      " #   Column     Non-Null Count  Dtype \n",
      "---  ------     --------------  ----- \n",
      " 0   행정구역       17 non-null     object\n",
      " 1    총인구수(명)   17 non-null     int64 \n",
      " 2    남자인구수(명)  17 non-null     int64 \n",
      " 3    여자인구수(명)  17 non-null     int64 \n",
      "dtypes: int64(3), object(1)\n",
      "memory usage: 672.0+ bytes\n"
     ]
    }
   ],
   "source": [
    "df.info()"
   ]
  },
  {
   "cell_type": "code",
   "execution_count": 52,
   "id": "7d798df4",
   "metadata": {},
   "outputs": [
    {
     "data": {
      "text/plain": [
       "(17, 4)"
      ]
     },
     "execution_count": 52,
     "metadata": {},
     "output_type": "execute_result"
    }
   ],
   "source": [
    "# df.shape 는 행과 열의 수를 빠르게 확인할수 있다\n",
    "df.shape"
   ]
  },
  {
   "cell_type": "code",
   "execution_count": 53,
   "id": "c5cd1a27",
   "metadata": {},
   "outputs": [
    {
     "data": {
      "text/html": [
       "<div>\n",
       "<style scoped>\n",
       "    .dataframe tbody tr th:only-of-type {\n",
       "        vertical-align: middle;\n",
       "    }\n",
       "\n",
       "    .dataframe tbody tr th {\n",
       "        vertical-align: top;\n",
       "    }\n",
       "\n",
       "    .dataframe thead th {\n",
       "        text-align: right;\n",
       "    }\n",
       "</style>\n",
       "<table border=\"1\" class=\"dataframe\">\n",
       "  <thead>\n",
       "    <tr style=\"text-align: right;\">\n",
       "      <th></th>\n",
       "      <th>총인구수(명)</th>\n",
       "      <th>남자인구수(명)</th>\n",
       "      <th>여자인구수(명)</th>\n",
       "    </tr>\n",
       "  </thead>\n",
       "  <tbody>\n",
       "    <tr>\n",
       "      <th>count</th>\n",
       "      <td>1.700000e+01</td>\n",
       "      <td>1.700000e+01</td>\n",
       "      <td>1.700000e+01</td>\n",
       "    </tr>\n",
       "    <tr>\n",
       "      <th>mean</th>\n",
       "      <td>5.881202e+06</td>\n",
       "      <td>1.515884e+06</td>\n",
       "      <td>1.523669e+06</td>\n",
       "    </tr>\n",
       "    <tr>\n",
       "      <th>std</th>\n",
       "      <td>1.227352e+07</td>\n",
       "      <td>1.680130e+06</td>\n",
       "      <td>1.697563e+06</td>\n",
       "    </tr>\n",
       "    <tr>\n",
       "      <th>min</th>\n",
       "      <td>3.629950e+05</td>\n",
       "      <td>1.813280e+05</td>\n",
       "      <td>1.816670e+05</td>\n",
       "    </tr>\n",
       "    <tr>\n",
       "      <th>25%</th>\n",
       "      <td>1.456107e+06</td>\n",
       "      <td>7.266660e+05</td>\n",
       "      <td>7.294410e+05</td>\n",
       "    </tr>\n",
       "    <tr>\n",
       "      <th>50%</th>\n",
       "      <td>1.840921e+06</td>\n",
       "      <td>9.263980e+05</td>\n",
       "      <td>9.145230e+05</td>\n",
       "    </tr>\n",
       "    <tr>\n",
       "      <th>75%</th>\n",
       "      <td>2.936367e+06</td>\n",
       "      <td>1.470544e+06</td>\n",
       "      <td>1.465823e+06</td>\n",
       "    </tr>\n",
       "    <tr>\n",
       "      <th>max</th>\n",
       "      <td>5.167240e+07</td>\n",
       "      <td>6.795088e+06</td>\n",
       "      <td>6.705600e+06</td>\n",
       "    </tr>\n",
       "  </tbody>\n",
       "</table>\n",
       "</div>"
      ],
      "text/plain": [
       "            총인구수(명)      남자인구수(명)      여자인구수(명)\n",
       "count  1.700000e+01  1.700000e+01  1.700000e+01\n",
       "mean   5.881202e+06  1.515884e+06  1.523669e+06\n",
       "std    1.227352e+07  1.680130e+06  1.697563e+06\n",
       "min    3.629950e+05  1.813280e+05  1.816670e+05\n",
       "25%    1.456107e+06  7.266660e+05  7.294410e+05\n",
       "50%    1.840921e+06  9.263980e+05  9.145230e+05\n",
       "75%    2.936367e+06  1.470544e+06  1.465823e+06\n",
       "max    5.167240e+07  6.795088e+06  6.705600e+06"
      ]
     },
     "execution_count": 53,
     "metadata": {},
     "output_type": "execute_result"
    }
   ],
   "source": [
    "df.describe()"
   ]
  },
  {
   "cell_type": "code",
   "execution_count": 54,
   "id": "134bd872",
   "metadata": {},
   "outputs": [
    {
     "data": {
      "text/plain": [
       "행정구역         17\n",
       " 총인구수(명)     17\n",
       " 남자인구수(명)    17\n",
       " 여자인구수(명)    17\n",
       "dtype: int64"
      ]
     },
     "execution_count": 54,
     "metadata": {},
     "output_type": "execute_result"
    }
   ],
   "source": [
    "# 각 데이터 항목별로도 확인할 수 있다.\n",
    "df.count()\n",
    "#df.mean()\n",
    "#df.max()\n",
    "#df.min()\n",
    "#df.median()\n",
    "#df.std()"
   ]
  },
  {
   "cell_type": "code",
   "execution_count": 55,
   "id": "b90f5062",
   "metadata": {},
   "outputs": [],
   "source": [
    "#1. 타이타닉 데이터를 df형태로 읽어오세요.\n",
    "#2. df 출력해보고\n",
    "#3. head(), tail(), info(), shape, describe"
   ]
  },
  {
   "cell_type": "code",
   "execution_count": 62,
   "id": "b18065b4",
   "metadata": {},
   "outputs": [
    {
     "name": "stdout",
     "output_type": "stream",
     "text": [
      "    \\tSurvived\\tPclass\\tSex\\tAge\\tFare\\tEmbarked\\tClass\\tAdult_Male\\tEmbarktown\\t\n",
      "0    0\\t0\\t3\\tmale\\t22\\t7.25\\tS\\tThird\\tTRUE\\tSouth...                           \n",
      "1    1\\t1\\t1\\tfemale\\t38\\t71.2833\\tC\\tFirst\\tFALSE\\...                           \n",
      "2    2\\t1\\t3\\tfemale\\t26\\t7.925\\tS\\tThird\\tFALSE\\tS...                           \n",
      "3    3\\t1\\t1\\tfemale\\t35\\t53.1\\tS\\tFirst\\tFALSE\\tSo...                           \n",
      "4    4\\t0\\t3\\tmale\\t35\\t8.05\\tS\\tThird\\tTRUE\\tSouth...                           \n",
      "..                                                 ...                           \n",
      "886  886\\t0\\t2\\tmale\\t27\\t13\\tS\\tSecond\\tTRUE\\tSout...                           \n",
      "887  887\\t1\\t1\\tfemale\\t19\\t30\\tS\\tFirst\\tFALSE\\tSo...                           \n",
      "888  888\\t0\\t3\\tfemale\\t29.69911765\\t23.45\\tS\\tThir...                           \n",
      "889  889\\t1\\t1\\tmale\\t26\\t30\\tC\\tFirst\\tTRUE\\tCherb...                           \n",
      "890  890\\t0\\t3\\tmale\\t32\\t7.75\\tQ\\tThird\\tTRUE\\tQue...                           \n",
      "\n",
      "[891 rows x 1 columns]\n"
     ]
    }
   ],
   "source": [
    "df = pd.read_csv(\"titanic.csv\")\n",
    "print(df)"
   ]
  },
  {
   "cell_type": "code",
   "execution_count": 63,
   "id": "efbe9eca",
   "metadata": {},
   "outputs": [
    {
     "data": {
      "text/html": [
       "<div>\n",
       "<style scoped>\n",
       "    .dataframe tbody tr th:only-of-type {\n",
       "        vertical-align: middle;\n",
       "    }\n",
       "\n",
       "    .dataframe tbody tr th {\n",
       "        vertical-align: top;\n",
       "    }\n",
       "\n",
       "    .dataframe thead th {\n",
       "        text-align: right;\n",
       "    }\n",
       "</style>\n",
       "<table border=\"1\" class=\"dataframe\">\n",
       "  <thead>\n",
       "    <tr style=\"text-align: right;\">\n",
       "      <th></th>\n",
       "      <th>\\tSurvived\\tPclass\\tSex\\tAge\\tFare\\tEmbarked\\tClass\\tAdult_Male\\tEmbarktown\\t</th>\n",
       "    </tr>\n",
       "  </thead>\n",
       "  <tbody>\n",
       "    <tr>\n",
       "      <th>count</th>\n",
       "      <td>891</td>\n",
       "    </tr>\n",
       "    <tr>\n",
       "      <th>unique</th>\n",
       "      <td>891</td>\n",
       "    </tr>\n",
       "    <tr>\n",
       "      <th>top</th>\n",
       "      <td>0\\t0\\t3\\tmale\\t22\\t7.25\\tS\\tThird\\tTRUE\\tSouth...</td>\n",
       "    </tr>\n",
       "    <tr>\n",
       "      <th>freq</th>\n",
       "      <td>1</td>\n",
       "    </tr>\n",
       "  </tbody>\n",
       "</table>\n",
       "</div>"
      ],
      "text/plain": [
       "       \\tSurvived\\tPclass\\tSex\\tAge\\tFare\\tEmbarked\\tClass\\tAdult_Male\\tEmbarktown\\t\n",
       "count                                                 891                           \n",
       "unique                                                891                           \n",
       "top     0\\t0\\t3\\tmale\\t22\\t7.25\\tS\\tThird\\tTRUE\\tSouth...                           \n",
       "freq                                                    1                           "
      ]
     },
     "execution_count": 63,
     "metadata": {},
     "output_type": "execute_result"
    }
   ],
   "source": [
    "df.describe()"
   ]
  },
  {
   "cell_type": "code",
   "execution_count": null,
   "id": "28802414",
   "metadata": {},
   "outputs": [],
   "source": []
  }
 ],
 "metadata": {
  "kernelspec": {
   "display_name": "Python 3 (ipykernel)",
   "language": "python",
   "name": "python3"
  },
  "language_info": {
   "codemirror_mode": {
    "name": "ipython",
    "version": 3
   },
   "file_extension": ".py",
   "mimetype": "text/x-python",
   "name": "python",
   "nbconvert_exporter": "python",
   "pygments_lexer": "ipython3",
   "version": "3.9.6"
  }
 },
 "nbformat": 4,
 "nbformat_minor": 5
}
